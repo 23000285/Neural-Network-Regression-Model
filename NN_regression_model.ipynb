{
  "cells": [
    {
      "cell_type": "code",
      "execution_count": 48,
      "metadata": {
        "id": "VJOBET7aZuAs"
      },
      "outputs": [],
      "source": [
        "import torch\n",
        "import torch.nn as nn\n",
        "import torch.optim as optim\n",
        "import pandas as pd\n",
        "from sklearn.model_selection import train_test_split\n",
        "from sklearn.preprocessing import MinMaxScaler"
      ]
    },
    {
      "cell_type": "code",
      "execution_count": 49,
      "metadata": {
        "id": "PaKxT9lYZ7_r"
      },
      "outputs": [],
      "source": [
        "dataset1 = pd.read_csv('heights (1).csv')\n",
        "X = dataset1[['height']].values\n",
        "y = dataset1[['weight']].values"
      ]
    },
    {
      "cell_type": "code",
      "execution_count": 50,
      "metadata": {
        "id": "0s9XNKnraBB1"
      },
      "outputs": [],
      "source": [
        "X_train, X_test, y_train, y_test = train_test_split(X, y, test_size=0.33, random_state=33)"
      ]
    },
    {
      "cell_type": "code",
      "execution_count": 51,
      "metadata": {
        "id": "YhvC6ogzaEHT"
      },
      "outputs": [],
      "source": [
        "scaler = MinMaxScaler()\n",
        "X_train = scaler.fit_transform(X_train)\n",
        "X_test = scaler.transform(X_test)"
      ]
    },
    {
      "cell_type": "code",
      "execution_count": 52,
      "metadata": {
        "id": "ht0VjANUaImU"
      },
      "outputs": [],
      "source": [
        "X_train_tensor = torch.tensor(X_train, dtype=torch.float32)\n",
        "y_train_tensor = torch.tensor(y_train, dtype=torch.float32).view(-1, 1)\n",
        "X_test_tensor = torch.tensor(X_test, dtype=torch.float32)\n",
        "y_test_tensor = torch.tensor(y_test, dtype=torch.float32).view(-1, 1)"
      ]
    },
    {
      "cell_type": "code",
      "execution_count": 53,
      "metadata": {
        "id": "sFkMMUXwIsxs"
      },
      "outputs": [],
      "source": [
        "# Name: VENKATANATHAN P R\n",
        "# Register Number: 212223240173\n",
        "class NeuralNet(nn.Module):\n",
        "  def __init__(self):\n",
        "    super().__init__()\n",
        "    self.fc1=nn.Linear(1,8)\n",
        "    self.fc2=nn.Linear(8,10)\n",
        "    self.fc3=nn.Linear(10,1)\n",
        "    self.relu=nn.ReLU()\n",
        "    self.history = {'loss':[]}\n",
        "\n",
        "  def forward(self,x):\n",
        "    x=self.relu(self.fc1(x))\n",
        "    x=self.relu(self.fc2(x))\n",
        "    x=self.fc3(x)\n",
        "    return x"
      ]
    },
    {
      "cell_type": "code",
      "execution_count": 54,
      "metadata": {
        "id": "LYCcZwd3aVXr"
      },
      "outputs": [],
      "source": [
        "# Initialize the Model, Loss Function, and Optimizer\n",
        "Venkatanathan=NeuralNet()\n",
        "criterion=nn.MSELoss()\n",
        "optimizer=torch.optim.RMSprop(Venkatanathan.parameters(),lr=0.001)"
      ]
    },
    {
      "cell_type": "code",
      "execution_count": 55,
      "metadata": {
        "id": "j04FRGu5aabj"
      },
      "outputs": [],
      "source": [
        "# Name: VENKATANATHAN P R\n",
        "# Register Number: 212223240173\n",
        "def train_model(Venkatanathan,X_train,y_train,criterion,optimizer,epochs=1000):\n",
        "  for epoch in range(epochs):\n",
        "    optimizer.zero_grad()\n",
        "    loss=criterion(Venkatanathan(X_train),y_train)\n",
        "    loss.backward()\n",
        "    optimizer.step()\n",
        "\n",
        "    Venkatanathan.history['loss'].append(loss.item())\n",
        "    if epoch % 200==0:\n",
        "      print(f'Epoch [{epoch}/{epochs}], Loss: {loss.item():.6f}')"
      ]
    },
    {
      "cell_type": "code",
      "execution_count": 56,
      "metadata": {
        "id": "3nT2R4-NanGb"
      },
      "outputs": [
        {
          "name": "stdout",
          "output_type": "stream",
          "text": [
            "Epoch [0/1000], Loss: 1703.767334\n",
            "Epoch [200/1000], Loss: 1168.821533\n",
            "Epoch [400/1000], Loss: 403.215118\n",
            "Epoch [600/1000], Loss: 120.392822\n",
            "Epoch [800/1000], Loss: 106.207054\n"
          ]
        }
      ],
      "source": [
        "train_model(Venkatanathan, X_train_tensor, y_train_tensor, criterion, optimizer)\n"
      ]
    },
    {
      "cell_type": "code",
      "execution_count": 57,
      "metadata": {
        "id": "Hs52rJD-aq-r"
      },
      "outputs": [
        {
          "name": "stdout",
          "output_type": "stream",
          "text": [
            "Test Loss: 246.089508\n"
          ]
        }
      ],
      "source": [
        "with torch.no_grad():\n",
        "    test_loss = criterion(Venkatanathan(X_test_tensor), y_test_tensor)\n",
        "    print(f'Test Loss: {test_loss.item():.6f}')\n"
      ]
    },
    {
      "cell_type": "code",
      "execution_count": 58,
      "metadata": {
        "id": "fSU0R1jPYzBY"
      },
      "outputs": [],
      "source": [
        "loss_df = pd.DataFrame(Venkatanathan.history)"
      ]
    },
    {
      "cell_type": "code",
      "execution_count": 59,
      "metadata": {
        "id": "XRU1WLwAZuh4"
      },
      "outputs": [
        {
          "data": {
            "image/png": "[encoded data removed]",
            "text/plain": [
              "<Figure size 640x480 with 1 Axes>"
            ]
          },
          "metadata": {},
          "output_type": "display_data"
        }
      ],
      "source": [
        "import matplotlib.pyplot as plt\n",
        "loss_df.plot()\n",
        "plt.xlabel(\"Epochs\")\n",
        "plt.ylabel(\"Loss\")\n",
        "plt.title(\"Loss during Training\")\n",
        "plt.show()"
      ]
    },
    {
      "cell_type": "code",
      "execution_count": 60,
      "metadata": {
        "id": "mr_JhBRZauxb"
      },
      "outputs": [
        {
          "name": "stdout",
          "output_type": "stream",
          "text": [
            "Prediction: 38.39668273925781\n"
          ]
        }
      ],
      "source": [
        "X_n1_1 = torch.tensor([[5.5]], dtype=torch.float32)\n",
        "prediction = Venkatanathan(torch.tensor(scaler.transform(X_n1_1), dtype=torch.float32)).item()\n",
        "print(f'Prediction: {prediction}')"
      ]
    }
  ],
  "metadata": {
    "colab": {
      "provenance": []
    },
    "kernelspec": {
      "display_name": "base",
      "language": "python",
      "name": "python3"
    },
    "language_info": {
      "codemirror_mode": {
        "name": "ipython",
        "version": 3
      },
      "file_extension": ".py",
      "mimetype": "text/x-python",
      "name": "python",
      "nbconvert_exporter": "python",
      "pygments_lexer": "ipython3",
      "version": "3.11.3"
    }
  },
  "nbformat": 4,
  "nbformat_minor": 0
}
